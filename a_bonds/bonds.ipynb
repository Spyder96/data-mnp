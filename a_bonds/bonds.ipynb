{
 "cells": [
  {
   "cell_type": "code",
   "execution_count": 6,
   "metadata": {},
   "outputs": [],
   "source": [
    "import pandas as pd\n",
    "bond_excel_path = r\"C:\\Projects\\Finances\\Wealth\\Bonds.xlsx\""
   ]
  },
  {
   "cell_type": "code",
   "execution_count": 7,
   "metadata": {},
   "outputs": [],
   "source": [
    "xl_file = pd.read_excel(bond_excel_path , sheet_name= ['Transactions' , 'Bonds' , 'Repayment'])"
   ]
  },
  {
   "cell_type": "code",
   "execution_count": 8,
   "metadata": {},
   "outputs": [],
   "source": [
    "import sqlite3\n",
    "from datetime import datetime\n",
    "db_path = r'C:\\Projects\\Finances\\database\\Transactions.db'\n",
    "conn = sqlite3.connect(db_path)"
   ]
  },
  {
   "cell_type": "code",
   "execution_count": 9,
   "metadata": {},
   "outputs": [],
   "source": [
    "#conn.ec"
   ]
  },
  {
   "cell_type": "code",
   "execution_count": 10,
   "metadata": {},
   "outputs": [
    {
     "data": {
      "text/plain": [
       "17"
      ]
     },
     "execution_count": 10,
     "metadata": {},
     "output_type": "execute_result"
    }
   ],
   "source": [
    "xl_file['Transactions'].to_sql( 'bond_transactions_fact',conn, if_exists='replace', index=True)\n",
    "xl_file['Bonds'].to_sql('bonds_dim',conn, if_exists='replace',index=False)\n",
    "xl_file['Repayment'].to_sql('bonds_repayment_fact', conn , if_exists='replace', index=True)"
   ]
  },
  {
   "cell_type": "code",
   "execution_count": 11,
   "metadata": {},
   "outputs": [],
   "source": [
    "conn.commit()\n",
    "conn.close()"
   ]
  },
  {
   "cell_type": "code",
   "execution_count": 14,
   "metadata": {},
   "outputs": [
    {
     "data": {
      "text/html": [
       "<div>\n",
       "<style scoped>\n",
       "    .dataframe tbody tr th:only-of-type {\n",
       "        vertical-align: middle;\n",
       "    }\n",
       "\n",
       "    .dataframe tbody tr th {\n",
       "        vertical-align: top;\n",
       "    }\n",
       "\n",
       "    .dataframe thead th {\n",
       "        text-align: right;\n",
       "    }\n",
       "</style>\n",
       "<table border=\"1\" class=\"dataframe\">\n",
       "  <thead>\n",
       "    <tr style=\"text-align: right;\">\n",
       "      <th></th>\n",
       "      <th>ISIN</th>\n",
       "      <th>Bond Name</th>\n",
       "      <th>Maturity Date</th>\n",
       "      <th>XIRR</th>\n",
       "      <th>Frequency of Interest Payment</th>\n",
       "      <th>Frequency Of Principal Repayment</th>\n",
       "    </tr>\n",
       "  </thead>\n",
       "  <tbody>\n",
       "    <tr>\n",
       "      <th>0</th>\n",
       "      <td>INE04VS07289</td>\n",
       "      <td>Oxyzo Mar'22</td>\n",
       "      <td>2024-03-16</td>\n",
       "      <td>0.0950</td>\n",
       "      <td>Annually</td>\n",
       "      <td>At maturity</td>\n",
       "    </tr>\n",
       "    <tr>\n",
       "      <th>1</th>\n",
       "      <td>INE07KI07047</td>\n",
       "      <td>Mintifi Sept'22</td>\n",
       "      <td>2023-09-06</td>\n",
       "      <td>0.1000</td>\n",
       "      <td>Every 4 months</td>\n",
       "      <td>Every 4 months</td>\n",
       "    </tr>\n",
       "    <tr>\n",
       "      <th>2</th>\n",
       "      <td>INE02E107077</td>\n",
       "      <td>Aryadhan Jun'22</td>\n",
       "      <td>2023-08-31</td>\n",
       "      <td>0.1050</td>\n",
       "      <td>Every 3 months</td>\n",
       "      <td>20% Every 3 months</td>\n",
       "    </tr>\n",
       "    <tr>\n",
       "      <th>3</th>\n",
       "      <td>INE998Y07121</td>\n",
       "      <td>Berar Sept'22</td>\n",
       "      <td>2024-08-07</td>\n",
       "      <td>0.1050</td>\n",
       "      <td>Every 6 months</td>\n",
       "      <td>25% Every 6 months</td>\n",
       "    </tr>\n",
       "    <tr>\n",
       "      <th>4</th>\n",
       "      <td>INE342T07445</td>\n",
       "      <td>NAVI FINSERV LIMITED</td>\n",
       "      <td>2027-03-13</td>\n",
       "      <td>0.1119</td>\n",
       "      <td>Annually</td>\n",
       "      <td>At maturity</td>\n",
       "    </tr>\n",
       "  </tbody>\n",
       "</table>\n",
       "</div>"
      ],
      "text/plain": [
       "           ISIN             Bond Name Maturity Date    XIRR  \\\n",
       "0  INE04VS07289          Oxyzo Mar'22    2024-03-16  0.0950   \n",
       "1  INE07KI07047       Mintifi Sept'22    2023-09-06  0.1000   \n",
       "2  INE02E107077       Aryadhan Jun'22    2023-08-31  0.1050   \n",
       "3  INE998Y07121         Berar Sept'22    2024-08-07  0.1050   \n",
       "4  INE342T07445  NAVI FINSERV LIMITED    2027-03-13  0.1119   \n",
       "\n",
       "  Frequency of Interest Payment Frequency Of Principal Repayment  \n",
       "0                      Annually                      At maturity  \n",
       "1                Every 4 months                   Every 4 months  \n",
       "2                Every 3 months               20% Every 3 months  \n",
       "3                Every 6 months               25% Every 6 months  \n",
       "4                      Annually                      At maturity  "
      ]
     },
     "execution_count": 14,
     "metadata": {},
     "output_type": "execute_result"
    }
   ],
   "source": [
    "xl_file['Bonds']"
   ]
  },
  {
   "cell_type": "markdown",
   "metadata": {},
   "source": [
    "### DB"
   ]
  },
  {
   "cell_type": "code",
   "execution_count": null,
   "metadata": {},
   "outputs": [],
   "source": [
    "import sqlite3\n",
    "from datetime import datetime\n",
    "db_path = r'C:\\Projects\\Finances\\database\\Transactions.db'"
   ]
  },
  {
   "cell_type": "code",
   "execution_count": null,
   "metadata": {},
   "outputs": [],
   "source": [
    "def data_load_to_db(df,bank_name):\n",
    "    # Connect to the SQLite database\n",
    "    conn = sqlite3.connect(db_path)\n",
    "    # Retrieve existing data from the \"transactions\" table\n",
    "    #existing_data = pd.read_sql_query(\"SELECT * FROM sbi_bank\", conn)\n",
    "    # Truncate the \"target\" table\n",
    "    conn.execute(f\"DELETE FROM {bank_name}_bank\")\n",
    "\n",
    "    # Insert new data into the \"sbi_target\" table\n",
    "    df.to_sql(f'{bank_name}_bank', conn, if_exists='replace', index=False)\n",
    "    # Commit changes and close connection\n",
    "    conn.commit()\n",
    "    conn.close()\n"
   ]
  }
 ],
 "metadata": {
  "kernelspec": {
   "display_name": "portfolio",
   "language": "python",
   "name": "python3"
  },
  "language_info": {
   "codemirror_mode": {
    "name": "ipython",
    "version": 3
   },
   "file_extension": ".py",
   "mimetype": "text/x-python",
   "name": "python",
   "nbconvert_exporter": "python",
   "pygments_lexer": "ipython3",
   "version": "3.12.3"
  }
 },
 "nbformat": 4,
 "nbformat_minor": 2
}
