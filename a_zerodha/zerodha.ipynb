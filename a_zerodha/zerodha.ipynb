{
 "cells": [
  {
   "cell_type": "code",
   "execution_count": 1,
   "metadata": {},
   "outputs": [],
   "source": [
    "import pandas as pd\n",
    "import numpy as np\n",
    "import os\n",
    "from datetime import datetime\n",
    "import shutil"
   ]
  },
  {
   "cell_type": "code",
   "execution_count": 2,
   "metadata": {},
   "outputs": [],
   "source": [
    "zerodhadirectory = r'C:\\Projects\\Finances\\Zerodha TradeBook'"
   ]
  },
  {
   "cell_type": "code",
   "execution_count": 3,
   "metadata": {},
   "outputs": [
    {
     "data": {
      "text/plain": [
       "['dividends-XCP798-2022_2023.csv',\n",
       " 'ledger-2022-23.csv',\n",
       " 'tradebook-2021-22.csv',\n",
       " 'tradebook-2022-23.csv',\n",
       " 'tradebook-2023-24.csv',\n",
       " 'zerodha_trades_2024-05-20.parquet']"
      ]
     },
     "execution_count": 3,
     "metadata": {},
     "output_type": "execute_result"
    }
   ],
   "source": [
    "\n",
    "os.listdir(zerodhadirectory)"
   ]
  },
  {
   "cell_type": "code",
   "execution_count": 5,
   "metadata": {},
   "outputs": [],
   "source": [
    "trade_files = [\n",
    "            file for file in os.listdir(zerodhadirectory)\n",
    "            if file.endswith(\".csv\") and file.startswith(\"trade\") \n",
    "        ]\n"
   ]
  },
  {
   "cell_type": "code",
   "execution_count": 6,
   "metadata": {},
   "outputs": [
    {
     "data": {
      "text/plain": [
       "['tradebook-2021-22.csv', 'tradebook-2022-23.csv', 'tradebook-2023-24.csv']"
      ]
     },
     "execution_count": 6,
     "metadata": {},
     "output_type": "execute_result"
    }
   ],
   "source": [
    "trade_files"
   ]
  },
  {
   "cell_type": "code",
   "execution_count": 16,
   "metadata": {},
   "outputs": [],
   "source": [
    "trade_dfs = []\n",
    "for file in trade_files:\n",
    "    file_path = os.path.join(zerodhadirectory , file )\n",
    "    df = pd.read_csv( file_path , header = 0)\n",
    "    df['trade_value'] = df['quantity'] * df['price']\n",
    "    # Select the desired columns\n",
    "    desired_columns = ['symbol', 'isin', 'trade_date', 'exchange', 'segment', 'trade_type', 'quantity', 'price', 'trade_value']\n",
    "    df = df[desired_columns]\n",
    "    trade_dfs.append(df)\n",
    "\n",
    "# Concatenate DataFrames and store the result back in the dictionary\n",
    "try :\n",
    "    combined_trade_df = pd.concat(trade_dfs, ignore_index=True)\n",
    "except Exception as e:\n",
    "    print(f'Failed to create to Zerodha trade df ::: \\n {str(e)}')\n",
    "\n"
   ]
  },
  {
   "cell_type": "code",
   "execution_count": 24,
   "metadata": {},
   "outputs": [
    {
     "name": "stdout",
     "output_type": "stream",
     "text": [
      "\n",
      " Zerodha trade Parquet written !!\n"
     ]
    }
   ],
   "source": [
    "# Get today's date\n",
    "today_date = datetime.today()\n",
    "\n",
    "# Convert the date to a string in the format \"YYYY-MM-DD\"\n",
    "today_date_str = today_date.strftime(\"%Y-%m-%d\")\n",
    "\n",
    "zerodha_file_path = f\"{zerodhadirectory}/zerodha_trades_{today_date_str}.parquet\"\n",
    "\n",
    "# Write the DataFrame to a Parquet file with the specified file name\n",
    "try: \n",
    "    combined_trade_df.to_parquet(zerodha_file_path)\n",
    "    print(f'\\n Zerodha trade Parquet written !!')\n",
    "except Exception as e:\n",
    "    print(f'Failed to write Zerodha parquet ::: {zerodha_file_path} \\n {str(e)}')"
   ]
  },
  {
   "cell_type": "code",
   "execution_count": 25,
   "metadata": {},
   "outputs": [
    {
     "data": {
      "text/plain": [
       "'C:\\\\Projects\\\\Finances\\\\Zerodha TradeBook/zerodha_trades_2024-05-20.parquet'"
      ]
     },
     "execution_count": 25,
     "metadata": {},
     "output_type": "execute_result"
    }
   ],
   "source": [
    "def file_backup(banksdirectory):\n",
    "    # backup dir and create directory if not exists\n",
    "    backup_dir = os.path.join (banksdirectory,'backup_parquets')\n",
    "    os.makedirs(backup_dir , exist_ok= True)\n",
    "\n",
    "    # Find parquet files\n",
    "    files = [file for file in os.listdir(banksdirectory) if file.endswith(\".parquet\")]\n",
    "\n",
    "    # Move files\n",
    "    for file in files:\n",
    "        source = os.path.join(banksdirectory, file)\n",
    "        destination = os.path.join(backup_dir, file)\n",
    "        shutil.move(source, destination)\n",
    "        print(f\"Moved {file} to backup directory\")"
   ]
  },
  {
   "cell_type": "markdown",
   "metadata": {},
   "source": [
    "### Parquet"
   ]
  },
  {
   "cell_type": "code",
   "execution_count": 8,
   "metadata": {},
   "outputs": [],
   "source": [
    "zerodhadirectory = r'C:\\\\Projects\\\\Finances\\\\Zerodha TradeBook'\n",
    "files = [file for file in os.listdir(zerodhadirectory) if file.endswith('.parquet')]\n",
    "zerodha_file_path = os.path.join(zerodhadirectory, files[0])\n",
    "zerodha_df = pd.read_parquet(zerodha_file_path)"
   ]
  },
  {
   "cell_type": "code",
   "execution_count": 9,
   "metadata": {},
   "outputs": [
    {
     "data": {
      "text/plain": [
       "symbol          object\n",
       "isin            object\n",
       "trade_date      object\n",
       "exchange        object\n",
       "segment         object\n",
       "trade_type      object\n",
       "quantity       float64\n",
       "price          float64\n",
       "trade_value    float64\n",
       "dtype: object"
      ]
     },
     "execution_count": 9,
     "metadata": {},
     "output_type": "execute_result"
    }
   ],
   "source": [
    "zerodha_df.dtypes"
   ]
  },
  {
   "cell_type": "code",
   "execution_count": 28,
   "metadata": {},
   "outputs": [
    {
     "data": {
      "text/plain": [
       "<pandas.core.groupby.generic.DataFrameGroupBy object at 0x000001BD2E9D3BC0>"
      ]
     },
     "execution_count": 28,
     "metadata": {},
     "output_type": "execute_result"
    }
   ],
   "source": [
    "columns = [ 'symbol' , 'trade_date', 'trade_type', 'trade_value']\n"
   ]
  },
  {
   "cell_type": "code",
   "execution_count": 50,
   "metadata": {},
   "outputs": [
    {
     "data": {
      "text/html": [
       "<div>\n",
       "<style scoped>\n",
       "    .dataframe tbody tr th:only-of-type {\n",
       "        vertical-align: middle;\n",
       "    }\n",
       "\n",
       "    .dataframe tbody tr th {\n",
       "        vertical-align: top;\n",
       "    }\n",
       "\n",
       "    .dataframe thead th {\n",
       "        text-align: right;\n",
       "    }\n",
       "</style>\n",
       "<table border=\"1\" class=\"dataframe\">\n",
       "  <thead>\n",
       "    <tr style=\"text-align: right;\">\n",
       "      <th></th>\n",
       "      <th></th>\n",
       "      <th>trade_value</th>\n",
       "    </tr>\n",
       "    <tr>\n",
       "      <th>symbol</th>\n",
       "      <th>trade_type</th>\n",
       "      <th></th>\n",
       "    </tr>\n",
       "  </thead>\n",
       "  <tbody>\n",
       "    <tr>\n",
       "      <th rowspan=\"2\" valign=\"top\">3MINDIA</th>\n",
       "      <th>buy</th>\n",
       "      <td>33149.95</td>\n",
       "    </tr>\n",
       "    <tr>\n",
       "      <th>sell</th>\n",
       "      <td>36631.30</td>\n",
       "    </tr>\n",
       "    <tr>\n",
       "      <th>AARTIDRUGS</th>\n",
       "      <th>buy</th>\n",
       "      <td>583.30</td>\n",
       "    </tr>\n",
       "    <tr>\n",
       "      <th rowspan=\"2\" valign=\"top\">AARTIIND</th>\n",
       "      <th>buy</th>\n",
       "      <td>13336.55</td>\n",
       "    </tr>\n",
       "    <tr>\n",
       "      <th>sell</th>\n",
       "      <td>9640.80</td>\n",
       "    </tr>\n",
       "    <tr>\n",
       "      <th>...</th>\n",
       "      <th>...</th>\n",
       "      <td>...</td>\n",
       "    </tr>\n",
       "    <tr>\n",
       "      <th rowspan=\"2\" valign=\"top\">WHIRLPOOL</th>\n",
       "      <th>buy</th>\n",
       "      <td>11838.10</td>\n",
       "    </tr>\n",
       "    <tr>\n",
       "      <th>sell</th>\n",
       "      <td>8676.85</td>\n",
       "    </tr>\n",
       "    <tr>\n",
       "      <th rowspan=\"2\" valign=\"top\">WIPRO</th>\n",
       "      <th>buy</th>\n",
       "      <td>3832.70</td>\n",
       "    </tr>\n",
       "    <tr>\n",
       "      <th>sell</th>\n",
       "      <td>2535.60</td>\n",
       "    </tr>\n",
       "    <tr>\n",
       "      <th>YATHARTH</th>\n",
       "      <th>sell</th>\n",
       "      <td>15831.55</td>\n",
       "    </tr>\n",
       "  </tbody>\n",
       "</table>\n",
       "<p>184 rows × 1 columns</p>\n",
       "</div>"
      ],
      "text/plain": [
       "                       trade_value\n",
       "symbol     trade_type             \n",
       "3MINDIA    buy            33149.95\n",
       "           sell           36631.30\n",
       "AARTIDRUGS buy              583.30\n",
       "AARTIIND   buy            13336.55\n",
       "           sell            9640.80\n",
       "...                            ...\n",
       "WHIRLPOOL  buy            11838.10\n",
       "           sell            8676.85\n",
       "WIPRO      buy             3832.70\n",
       "           sell            2535.60\n",
       "YATHARTH   sell           15831.55\n",
       "\n",
       "[184 rows x 1 columns]"
      ]
     },
     "execution_count": 50,
     "metadata": {},
     "output_type": "execute_result"
    }
   ],
   "source": [
    "zerodha_df.groupby(['symbol','trade_type'])[[ 'trade_value']].agg(\"sum\")"
   ]
  },
  {
   "cell_type": "code",
   "execution_count": 32,
   "metadata": {},
   "outputs": [
    {
     "data": {
      "text/html": [
       "<div>\n",
       "<style scoped>\n",
       "    .dataframe tbody tr th:only-of-type {\n",
       "        vertical-align: middle;\n",
       "    }\n",
       "\n",
       "    .dataframe tbody tr th {\n",
       "        vertical-align: top;\n",
       "    }\n",
       "\n",
       "    .dataframe thead tr th {\n",
       "        text-align: left;\n",
       "    }\n",
       "\n",
       "    .dataframe thead tr:last-of-type th {\n",
       "        text-align: right;\n",
       "    }\n",
       "</style>\n",
       "<table border=\"1\" class=\"dataframe\">\n",
       "  <thead>\n",
       "    <tr>\n",
       "      <th></th>\n",
       "      <th colspan=\"8\" halign=\"left\">trade_value</th>\n",
       "    </tr>\n",
       "    <tr>\n",
       "      <th></th>\n",
       "      <th>count</th>\n",
       "      <th>mean</th>\n",
       "      <th>std</th>\n",
       "      <th>min</th>\n",
       "      <th>25%</th>\n",
       "      <th>50%</th>\n",
       "      <th>75%</th>\n",
       "      <th>max</th>\n",
       "    </tr>\n",
       "    <tr>\n",
       "      <th>symbol</th>\n",
       "      <th></th>\n",
       "      <th></th>\n",
       "      <th></th>\n",
       "      <th></th>\n",
       "      <th></th>\n",
       "      <th></th>\n",
       "      <th></th>\n",
       "      <th></th>\n",
       "    </tr>\n",
       "  </thead>\n",
       "  <tbody>\n",
       "    <tr>\n",
       "      <th>3MINDIA</th>\n",
       "      <td>2.0</td>\n",
       "      <td>34890.625000</td>\n",
       "      <td>2461.686193</td>\n",
       "      <td>33149.95</td>\n",
       "      <td>34020.2875</td>\n",
       "      <td>34890.625</td>\n",
       "      <td>35760.9625</td>\n",
       "      <td>36631.30</td>\n",
       "    </tr>\n",
       "    <tr>\n",
       "      <th>AARTIDRUGS</th>\n",
       "      <td>1.0</td>\n",
       "      <td>583.300000</td>\n",
       "      <td>NaN</td>\n",
       "      <td>583.30</td>\n",
       "      <td>583.3000</td>\n",
       "      <td>583.300</td>\n",
       "      <td>583.3000</td>\n",
       "      <td>583.30</td>\n",
       "    </tr>\n",
       "    <tr>\n",
       "      <th>AARTIIND</th>\n",
       "      <td>8.0</td>\n",
       "      <td>2872.168750</td>\n",
       "      <td>2124.395786</td>\n",
       "      <td>891.60</td>\n",
       "      <td>965.6250</td>\n",
       "      <td>2172.200</td>\n",
       "      <td>4633.4375</td>\n",
       "      <td>6388.20</td>\n",
       "    </tr>\n",
       "    <tr>\n",
       "      <th>AARTIPHARM</th>\n",
       "      <td>1.0</td>\n",
       "      <td>354.850000</td>\n",
       "      <td>NaN</td>\n",
       "      <td>354.85</td>\n",
       "      <td>354.8500</td>\n",
       "      <td>354.850</td>\n",
       "      <td>354.8500</td>\n",
       "      <td>354.85</td>\n",
       "    </tr>\n",
       "    <tr>\n",
       "      <th>ALKYLAMINE</th>\n",
       "      <td>4.0</td>\n",
       "      <td>3493.075000</td>\n",
       "      <td>425.491530</td>\n",
       "      <td>3195.00</td>\n",
       "      <td>3291.0750</td>\n",
       "      <td>3326.400</td>\n",
       "      <td>3528.4000</td>\n",
       "      <td>4124.50</td>\n",
       "    </tr>\n",
       "    <tr>\n",
       "      <th>...</th>\n",
       "      <td>...</td>\n",
       "      <td>...</td>\n",
       "      <td>...</td>\n",
       "      <td>...</td>\n",
       "      <td>...</td>\n",
       "      <td>...</td>\n",
       "      <td>...</td>\n",
       "      <td>...</td>\n",
       "    </tr>\n",
       "    <tr>\n",
       "      <th>VGUARD</th>\n",
       "      <td>12.0</td>\n",
       "      <td>2220.937500</td>\n",
       "      <td>1242.840745</td>\n",
       "      <td>497.90</td>\n",
       "      <td>1528.8000</td>\n",
       "      <td>2260.425</td>\n",
       "      <td>3061.7500</td>\n",
       "      <td>4356.00</td>\n",
       "    </tr>\n",
       "    <tr>\n",
       "      <th>VOLTAS</th>\n",
       "      <td>6.0</td>\n",
       "      <td>2454.366667</td>\n",
       "      <td>951.226043</td>\n",
       "      <td>1231.20</td>\n",
       "      <td>1669.3125</td>\n",
       "      <td>3004.950</td>\n",
       "      <td>3026.5500</td>\n",
       "      <td>3227.25</td>\n",
       "    </tr>\n",
       "    <tr>\n",
       "      <th>WHIRLPOOL</th>\n",
       "      <td>9.0</td>\n",
       "      <td>2279.438889</td>\n",
       "      <td>1009.094050</td>\n",
       "      <td>1446.10</td>\n",
       "      <td>1605.0000</td>\n",
       "      <td>1894.000</td>\n",
       "      <td>2892.1000</td>\n",
       "      <td>4536.00</td>\n",
       "    </tr>\n",
       "    <tr>\n",
       "      <th>WIPRO</th>\n",
       "      <td>5.0</td>\n",
       "      <td>1273.660000</td>\n",
       "      <td>911.070205</td>\n",
       "      <td>573.95</td>\n",
       "      <td>651.7500</td>\n",
       "      <td>651.750</td>\n",
       "      <td>1955.2500</td>\n",
       "      <td>2535.60</td>\n",
       "    </tr>\n",
       "    <tr>\n",
       "      <th>YATHARTH</th>\n",
       "      <td>3.0</td>\n",
       "      <td>5277.183333</td>\n",
       "      <td>4857.601791</td>\n",
       "      <td>625.60</td>\n",
       "      <td>2757.0500</td>\n",
       "      <td>4888.500</td>\n",
       "      <td>7602.9750</td>\n",
       "      <td>10317.45</td>\n",
       "    </tr>\n",
       "  </tbody>\n",
       "</table>\n",
       "<p>103 rows × 8 columns</p>\n",
       "</div>"
      ],
      "text/plain": [
       "           trade_value                                                   \\\n",
       "                 count          mean          std       min         25%   \n",
       "symbol                                                                    \n",
       "3MINDIA            2.0  34890.625000  2461.686193  33149.95  34020.2875   \n",
       "AARTIDRUGS         1.0    583.300000          NaN    583.30    583.3000   \n",
       "AARTIIND           8.0   2872.168750  2124.395786    891.60    965.6250   \n",
       "AARTIPHARM         1.0    354.850000          NaN    354.85    354.8500   \n",
       "ALKYLAMINE         4.0   3493.075000   425.491530   3195.00   3291.0750   \n",
       "...                ...           ...          ...       ...         ...   \n",
       "VGUARD            12.0   2220.937500  1242.840745    497.90   1528.8000   \n",
       "VOLTAS             6.0   2454.366667   951.226043   1231.20   1669.3125   \n",
       "WHIRLPOOL          9.0   2279.438889  1009.094050   1446.10   1605.0000   \n",
       "WIPRO              5.0   1273.660000   911.070205    573.95    651.7500   \n",
       "YATHARTH           3.0   5277.183333  4857.601791    625.60   2757.0500   \n",
       "\n",
       "                                             \n",
       "                  50%         75%       max  \n",
       "symbol                                       \n",
       "3MINDIA     34890.625  35760.9625  36631.30  \n",
       "AARTIDRUGS    583.300    583.3000    583.30  \n",
       "AARTIIND     2172.200   4633.4375   6388.20  \n",
       "AARTIPHARM    354.850    354.8500    354.85  \n",
       "ALKYLAMINE   3326.400   3528.4000   4124.50  \n",
       "...               ...         ...       ...  \n",
       "VGUARD       2260.425   3061.7500   4356.00  \n",
       "VOLTAS       3004.950   3026.5500   3227.25  \n",
       "WHIRLPOOL    1894.000   2892.1000   4536.00  \n",
       "WIPRO         651.750   1955.2500   2535.60  \n",
       "YATHARTH     4888.500   7602.9750  10317.45  \n",
       "\n",
       "[103 rows x 8 columns]"
      ]
     },
     "execution_count": 32,
     "metadata": {},
     "output_type": "execute_result"
    }
   ],
   "source": []
  },
  {
   "cell_type": "markdown",
   "metadata": {},
   "source": [
    "### Database"
   ]
  },
  {
   "cell_type": "code",
   "execution_count": 10,
   "metadata": {},
   "outputs": [],
   "source": [
    "import sqlite3\n",
    "from datetime import datetime\n",
    "db_path = r'C:\\Projects\\Finances\\database\\Transactions.db'"
   ]
  },
  {
   "cell_type": "code",
   "execution_count": 11,
   "metadata": {},
   "outputs": [],
   "source": [
    "connection = sqlite3.connect(db_path)\n",
    "connection.execute(\"DELETE FROM zerodha\")\n",
    "zerodha_df.to_sql(\"zerodha\",connection,if_exists=\"replace\",index=False)\n",
    "connection.commit()\n",
    "connection.close()"
   ]
  },
  {
   "cell_type": "code",
   "execution_count": null,
   "metadata": {},
   "outputs": [],
   "source": []
  }
 ],
 "metadata": {
  "kernelspec": {
   "display_name": "portfolio",
   "language": "python",
   "name": "python3"
  },
  "language_info": {
   "codemirror_mode": {
    "name": "ipython",
    "version": 3
   },
   "file_extension": ".py",
   "mimetype": "text/x-python",
   "name": "python",
   "nbconvert_exporter": "python",
   "pygments_lexer": "ipython3",
   "version": "3.12.3"
  }
 },
 "nbformat": 4,
 "nbformat_minor": 2
}
