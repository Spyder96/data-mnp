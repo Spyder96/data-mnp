{
 "cells": [
  {
   "cell_type": "code",
   "execution_count": 10,
   "metadata": {},
   "outputs": [],
   "source": [
    "from pyspark.sql import SparkSession\n",
    "\n",
    "\n",
    "class ChargePointsETLJob:\n",
    "    input_path = r'C:\\Projects\\Finances\\data-mnp\\asses\\electric-chargepoints-2017.csv'\n",
    "    output_path = r'C:\\Projects\\Finances\\data-mnp\\asses\\asa.parquet'\n",
    "\n",
    "    def __init__(self):\n",
    "        self.spark_session = (SparkSession.builder\n",
    "                                          .master(\"local[*]\")\n",
    "                                          .appName(\"ElectricChargePointsETLJob\")\n",
    "                                          .getOrCreate())\n",
    "\n",
    "    def extract(self):\n",
    "        df = self.spark_session.read.csv( self.input_path, header=True, inferSchema=True)\n",
    "        return df\n",
    "\n",
    "    def transform(self, df):\n",
    "        from pyspark.sql.functions import avg, max , round\n",
    "        result_df = df.groupBy(\"CPID\").agg(  \n",
    "                    avg(\"pluginduration\").alias(\"avg_plugin_duration\"), \n",
    "                    max(\"pluginduration\").alias(\"max_plugin_duration\")) \\\n",
    "                    .withColumnRenamed(\"CPID\", \"chargepoint_id\")\n",
    "        # Round the columns\n",
    "        result_df = result_df.withColumn(\"avg_plugin_duration\", round(\"avg_plugin_duration\", 2)) \\\n",
    "                             .withColumn(\"max_plugin_duration\", round(\"max_plugin_duration\", 2))\n",
    "        return result_df\n",
    "\n",
    "    def load(self, df):\n",
    "        df.write.parquet(self.output_path)\n",
    "\n"
   ]
  },
  {
   "cell_type": "code",
   "execution_count": 3,
   "metadata": {},
   "outputs": [],
   "source": [
    "etl_job = ChargePointsETLJob()\n",
    "df = etl_job.extract()\n",
    "\n",
    "etl_job.save_parquet(transformed_df)"
   ]
  },
  {
   "cell_type": "code",
   "execution_count": 12,
   "metadata": {},
   "outputs": [
    {
     "name": "stdout",
     "output_type": "stream",
     "text": [
      "+-------------+-------+----------+-------------------+----------+-------------------+------+------------------+\n",
      "|ChargingEvent|   CPID| StartDate|          StartTime|   EndDate|            EndTime|Energy|    PluginDuration|\n",
      "+-------------+-------+----------+-------------------+----------+-------------------+------+------------------+\n",
      "|     16673806|AN11719|2017-12-31|2024-06-08 14:46:00|2017-12-31|2024-06-08 18:00:00|   2.4|3.2333333333333334|\n",
      "|     16670986|AN01706|2017-12-31|2024-06-08 11:25:00|2017-12-31|2024-06-08 13:14:00|   6.1|1.8166666666666667|\n",
      "|      3174961|AN18584|2017-12-31|2024-06-08 11:26:11|2018-01-01|2024-06-08 12:54:11|  24.0|25.466666666666665|\n",
      "|     16674334|AN00812|2017-12-31|2024-06-08 15:18:00|2018-01-01|2024-06-08 14:06:00|   6.7|              22.8|\n",
      "|      3176831|AN24139|2017-12-31|2024-06-08 18:25:18|2018-01-01|2024-06-08 13:09:18|   6.1|18.733333333333334|\n",
      "|     16673920|AN03984|2017-12-31|2024-06-08 14:54:00|2017-12-31|2024-06-08 19:19:00|   5.6| 4.416666666666667|\n",
      "|      3174600|AN23243|2017-12-31|2024-06-08 09:43:09|2017-12-31|2024-06-08 11:40:09|   5.0|              1.95|\n",
      "|     16677086|AN01809|2017-12-31|2024-06-08 18:52:00|2018-01-02|2024-06-08 07:19:00|   4.5|             36.45|\n",
      "|      3176550|AN24009|2017-12-31|2024-06-08 16:59:16|2018-01-02|2024-06-08 15:53:16|   5.0|              46.9|\n",
      "|     16678674|AN15542|2017-12-31|2024-06-08 22:47:00|2018-01-01|2024-06-08 12:11:00|  26.1|              13.4|\n",
      "|     16667381|AN05258|2017-12-30|2024-06-08 20:44:00|2017-12-31|2024-06-08 12:31:00|  18.5|15.783333333333333|\n",
      "|     16656684|AN03155|2017-12-30|2024-06-08 00:08:00|2017-12-30|2024-06-08 11:08:00|  23.7|              11.0|\n",
      "|     16665909|AN15633|2017-12-30|2024-06-08 22:08:00|2017-12-31|2024-06-08 07:34:00|   8.6| 9.433333333333334|\n",
      "|     16656833|AN16585|2017-12-30|2024-06-08 11:06:00|2017-12-30|2024-06-08 11:21:00|   1.6|              0.25|\n",
      "|      3170740|AN18094|2017-12-30|2024-06-08 11:49:11|2017-12-31|2024-06-08 12:26:11|  15.0|24.616666666666667|\n",
      "|     16659519|AN08473|2017-12-30|2024-06-08 14:24:00|2017-12-30|2024-06-08 16:12:00|   1.8|               1.8|\n",
      "|     16664521|AN16361|2017-12-30|2024-06-08 19:35:00|2017-12-31|2024-06-08 14:32:00|   3.5|             18.95|\n",
      "|     16662170|AN11067|2017-12-30|2024-06-08 17:07:00|2017-12-31|2024-06-08 08:15:00|   6.5|15.133333333333333|\n",
      "|     16661855|AN12077|2017-12-30|2024-06-08 16:50:00|2017-12-30|2024-06-08 18:56:00|   6.5|               2.1|\n",
      "|     16666777|AN08012|2017-12-30|2024-06-08 11:00:00|2017-12-31|2024-06-08 08:34:00|   3.1|21.566666666666666|\n",
      "+-------------+-------+----------+-------------------+----------+-------------------+------+------------------+\n",
      "only showing top 20 rows\n",
      "\n"
     ]
    }
   ],
   "source": [
    "df.show()"
   ]
  },
  {
   "cell_type": "code",
   "execution_count": 5,
   "metadata": {},
   "outputs": [],
   "source": [
    "transformed_df = etl_job.transform(df)"
   ]
  },
  {
   "cell_type": "code",
   "execution_count": 7,
   "metadata": {},
   "outputs": [
    {
     "name": "stdout",
     "output_type": "stream",
     "text": [
      "+--------------+-------------------+-------------------+\n",
      "|chargepoint_id|avg_plugin_duration|max_plugin_duration|\n",
      "+--------------+-------------------+-------------------+\n",
      "|       AN03946|               7.88|              13.35|\n",
      "|       AN00218|               1.56|               3.46|\n",
      "|       AN08663|              15.95|              41.71|\n",
      "|       AN05089|               9.78|              12.85|\n",
      "|       AN08083|               1.46|               2.73|\n",
      "|       AN00603|              28.72|              62.92|\n",
      "|       AN04630|              22.94|              34.32|\n",
      "|       AN16172|              11.24|              14.93|\n",
      "|       AN06965|               8.99|               25.4|\n",
      "|       AN08377|              17.82|              23.95|\n",
      "|       AN10884|               16.9|               24.1|\n",
      "|       AN11526|              11.58|              17.87|\n",
      "|       AN09764|               5.92|              14.58|\n",
      "|       AN06739|                4.9|              11.79|\n",
      "|       AN12429|               13.1|              22.57|\n",
      "|       AN03896|               5.41|              13.09|\n",
      "|       AN17688|               6.71|              14.99|\n",
      "|       AN09713|               4.07|              10.22|\n",
      "|       AN15995|               3.56|               3.78|\n",
      "|       AN11463|               7.35|               12.6|\n",
      "+--------------+-------------------+-------------------+\n",
      "only showing top 20 rows\n",
      "\n"
     ]
    }
   ],
   "source": [
    "transformed_df.show()"
   ]
  },
  {
   "cell_type": "code",
   "execution_count": 11,
   "metadata": {},
   "outputs": [
    {
     "ename": "AnalysisException",
     "evalue": "[PATH_ALREADY_EXISTS] Path file:/C:/Projects/Finances/data-mnp/asses already exists. Set mode as \"overwrite\" to overwrite the existing path.",
     "output_type": "error",
     "traceback": [
      "\u001b[1;31m---------------------------------------------------------------------------\u001b[0m",
      "\u001b[1;31mAnalysisException\u001b[0m                         Traceback (most recent call last)",
      "Cell \u001b[1;32mIn[11], line 1\u001b[0m\n\u001b[1;32m----> 1\u001b[0m \u001b[43metl_job\u001b[49m\u001b[38;5;241;43m.\u001b[39;49m\u001b[43mload\u001b[49m\u001b[43m(\u001b[49m\u001b[43mtransformed_df\u001b[49m\u001b[43m)\u001b[49m\n",
      "Cell \u001b[1;32mIn[2], line 30\u001b[0m, in \u001b[0;36mChargePointsETLJob.load\u001b[1;34m(self, df)\u001b[0m\n\u001b[0;32m     29\u001b[0m \u001b[38;5;28;01mdef\u001b[39;00m \u001b[38;5;21mload\u001b[39m(\u001b[38;5;28mself\u001b[39m, df):\n\u001b[1;32m---> 30\u001b[0m     \u001b[43mdf\u001b[49m\u001b[38;5;241;43m.\u001b[39;49m\u001b[43mwrite\u001b[49m\u001b[38;5;241;43m.\u001b[39;49m\u001b[43mparquet\u001b[49m\u001b[43m(\u001b[49m\u001b[38;5;28;43mself\u001b[39;49m\u001b[38;5;241;43m.\u001b[39;49m\u001b[43moutput_path\u001b[49m\u001b[43m)\u001b[49m\n",
      "File \u001b[1;32mc:\\Users\\Amirul\\.conda\\envs\\portfolio\\Lib\\site-packages\\pyspark\\sql\\readwriter.py:1656\u001b[0m, in \u001b[0;36mDataFrameWriter.parquet\u001b[1;34m(self, path, mode, partitionBy, compression)\u001b[0m\n\u001b[0;32m   1654\u001b[0m     \u001b[38;5;28mself\u001b[39m\u001b[38;5;241m.\u001b[39mpartitionBy(partitionBy)\n\u001b[0;32m   1655\u001b[0m \u001b[38;5;28mself\u001b[39m\u001b[38;5;241m.\u001b[39m_set_opts(compression\u001b[38;5;241m=\u001b[39mcompression)\n\u001b[1;32m-> 1656\u001b[0m \u001b[38;5;28;43mself\u001b[39;49m\u001b[38;5;241;43m.\u001b[39;49m\u001b[43m_jwrite\u001b[49m\u001b[38;5;241;43m.\u001b[39;49m\u001b[43mparquet\u001b[49m\u001b[43m(\u001b[49m\u001b[43mpath\u001b[49m\u001b[43m)\u001b[49m\n",
      "File \u001b[1;32mc:\\Users\\Amirul\\.conda\\envs\\portfolio\\Lib\\site-packages\\py4j\\java_gateway.py:1322\u001b[0m, in \u001b[0;36mJavaMember.__call__\u001b[1;34m(self, *args)\u001b[0m\n\u001b[0;32m   1316\u001b[0m command \u001b[38;5;241m=\u001b[39m proto\u001b[38;5;241m.\u001b[39mCALL_COMMAND_NAME \u001b[38;5;241m+\u001b[39m\\\n\u001b[0;32m   1317\u001b[0m     \u001b[38;5;28mself\u001b[39m\u001b[38;5;241m.\u001b[39mcommand_header \u001b[38;5;241m+\u001b[39m\\\n\u001b[0;32m   1318\u001b[0m     args_command \u001b[38;5;241m+\u001b[39m\\\n\u001b[0;32m   1319\u001b[0m     proto\u001b[38;5;241m.\u001b[39mEND_COMMAND_PART\n\u001b[0;32m   1321\u001b[0m answer \u001b[38;5;241m=\u001b[39m \u001b[38;5;28mself\u001b[39m\u001b[38;5;241m.\u001b[39mgateway_client\u001b[38;5;241m.\u001b[39msend_command(command)\n\u001b[1;32m-> 1322\u001b[0m return_value \u001b[38;5;241m=\u001b[39m \u001b[43mget_return_value\u001b[49m\u001b[43m(\u001b[49m\n\u001b[0;32m   1323\u001b[0m \u001b[43m    \u001b[49m\u001b[43manswer\u001b[49m\u001b[43m,\u001b[49m\u001b[43m \u001b[49m\u001b[38;5;28;43mself\u001b[39;49m\u001b[38;5;241;43m.\u001b[39;49m\u001b[43mgateway_client\u001b[49m\u001b[43m,\u001b[49m\u001b[43m \u001b[49m\u001b[38;5;28;43mself\u001b[39;49m\u001b[38;5;241;43m.\u001b[39;49m\u001b[43mtarget_id\u001b[49m\u001b[43m,\u001b[49m\u001b[43m \u001b[49m\u001b[38;5;28;43mself\u001b[39;49m\u001b[38;5;241;43m.\u001b[39;49m\u001b[43mname\u001b[49m\u001b[43m)\u001b[49m\n\u001b[0;32m   1325\u001b[0m \u001b[38;5;28;01mfor\u001b[39;00m temp_arg \u001b[38;5;129;01min\u001b[39;00m temp_args:\n\u001b[0;32m   1326\u001b[0m     \u001b[38;5;28;01mif\u001b[39;00m \u001b[38;5;28mhasattr\u001b[39m(temp_arg, \u001b[38;5;124m\"\u001b[39m\u001b[38;5;124m_detach\u001b[39m\u001b[38;5;124m\"\u001b[39m):\n",
      "File \u001b[1;32mc:\\Users\\Amirul\\.conda\\envs\\portfolio\\Lib\\site-packages\\pyspark\\errors\\exceptions\\captured.py:175\u001b[0m, in \u001b[0;36mcapture_sql_exception.<locals>.deco\u001b[1;34m(*a, **kw)\u001b[0m\n\u001b[0;32m    171\u001b[0m converted \u001b[38;5;241m=\u001b[39m convert_exception(e\u001b[38;5;241m.\u001b[39mjava_exception)\n\u001b[0;32m    172\u001b[0m \u001b[38;5;28;01mif\u001b[39;00m \u001b[38;5;129;01mnot\u001b[39;00m \u001b[38;5;28misinstance\u001b[39m(converted, UnknownException):\n\u001b[0;32m    173\u001b[0m     \u001b[38;5;66;03m# Hide where the exception came from that shows a non-Pythonic\u001b[39;00m\n\u001b[0;32m    174\u001b[0m     \u001b[38;5;66;03m# JVM exception message.\u001b[39;00m\n\u001b[1;32m--> 175\u001b[0m     \u001b[38;5;28;01mraise\u001b[39;00m converted \u001b[38;5;28;01mfrom\u001b[39;00m \u001b[38;5;28;01mNone\u001b[39;00m\n\u001b[0;32m    176\u001b[0m \u001b[38;5;28;01melse\u001b[39;00m:\n\u001b[0;32m    177\u001b[0m     \u001b[38;5;28;01mraise\u001b[39;00m\n",
      "\u001b[1;31mAnalysisException\u001b[0m: [PATH_ALREADY_EXISTS] Path file:/C:/Projects/Finances/data-mnp/asses already exists. Set mode as \"overwrite\" to overwrite the existing path."
     ]
    }
   ],
   "source": [
    "etl_job.load(transformed_df)"
   ]
  },
  {
   "cell_type": "code",
   "execution_count": null,
   "metadata": {},
   "outputs": [],
   "source": []
  }
 ],
 "metadata": {
  "kernelspec": {
   "display_name": "portfolio",
   "language": "python",
   "name": "python3"
  },
  "language_info": {
   "codemirror_mode": {
    "name": "ipython",
    "version": 3
   },
   "file_extension": ".py",
   "mimetype": "text/x-python",
   "name": "python",
   "nbconvert_exporter": "python",
   "pygments_lexer": "ipython3",
   "version": "3.12.3"
  }
 },
 "nbformat": 4,
 "nbformat_minor": 2
}
