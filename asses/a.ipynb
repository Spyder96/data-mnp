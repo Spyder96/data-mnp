{
 "cells": [
  {
   "cell_type": "code",
   "execution_count": 1,
   "metadata": {},
   "outputs": [],
   "source": [
    "from pyspark.sql import SparkSession\n",
    "\n",
    "\n",
    "class ChargePointsETLJob:\n",
    "    input_path = r'C:\\Projects\\Finances\\data-mnp\\asses\\electric-chargepoints-2017.csv'\n",
    "    output_path = r'C:\\Projects\\Finances\\data-mnp\\asses\\asa.csv'\n",
    "\n",
    "    def __init__(self):\n",
    "        self.spark_session = (SparkSession.builder\n",
    "                                          .master(\"local[*]\")\n",
    "                                          .appName(\"ElectricChargePointsETLJob\")\n",
    "                                          .getOrCreate())\n",
    "\n",
    "    def extract(self):\n",
    "        df = self.spark_session.read.csv( self.input_path, header=True, inferSchema=True)\n",
    "        return df\n",
    "\n",
    "    def transform(self, df):\n",
    "        from pyspark.sql.functions import avg, max , round\n",
    "        result_df = df.groupBy(\"CPID\").agg(  \n",
    "                    avg(\"pluginduration\").alias(\"avg_plugin_duration\"), \n",
    "                    max(\"pluginduration\").alias(\"max_plugin_duration\")) \\\n",
    "                    .withColumnRenamed(\"CPID\", \"chargepoint_id\")\n",
    "        # Round the columns\n",
    "        result_df = result_df.withColumn(\"avg_plugin_duration\", round(\"avg_plugin_duration\", 2)) \\\n",
    "                             .withColumn(\"max_plugin_duration\", round(\"max_plugin_duration\", 2))\n",
    "        return result_df\n",
    "\n",
    "    def load(self, df):\n",
    "        df.write.parquet(self.output_path)\n",
    "\n"
   ]
  },
  {
   "cell_type": "code",
   "execution_count": 2,
   "metadata": {},
   "outputs": [],
   "source": [
    "etl_job = ChargePointsETLJob()\n",
    "df = etl_job.extract()\n",
    "\n",
    "#etl_job.save_parquet(transformed_df)"
   ]
  },
  {
   "cell_type": "code",
   "execution_count": 3,
   "metadata": {},
   "outputs": [
    {
     "name": "stdout",
     "output_type": "stream",
     "text": [
      "+-------------+-------+----------+-------------------+----------+-------------------+------+------------------+\n",
      "|ChargingEvent|   CPID| StartDate|          StartTime|   EndDate|            EndTime|Energy|    PluginDuration|\n",
      "+-------------+-------+----------+-------------------+----------+-------------------+------+------------------+\n",
      "|     16673806|AN11719|2017-12-31|2024-06-15 14:46:00|2017-12-31|2024-06-15 18:00:00|   2.4|3.2333333333333334|\n",
      "|     16670986|AN01706|2017-12-31|2024-06-15 11:25:00|2017-12-31|2024-06-15 13:14:00|   6.1|1.8166666666666667|\n",
      "|      3174961|AN18584|2017-12-31|2024-06-15 11:26:11|2018-01-01|2024-06-15 12:54:11|  24.0|25.466666666666665|\n",
      "|     16674334|AN00812|2017-12-31|2024-06-15 15:18:00|2018-01-01|2024-06-15 14:06:00|   6.7|              22.8|\n",
      "|      3176831|AN24139|2017-12-31|2024-06-15 18:25:18|2018-01-01|2024-06-15 13:09:18|   6.1|18.733333333333334|\n",
      "|     16673920|AN03984|2017-12-31|2024-06-15 14:54:00|2017-12-31|2024-06-15 19:19:00|   5.6| 4.416666666666667|\n",
      "|      3174600|AN23243|2017-12-31|2024-06-15 09:43:09|2017-12-31|2024-06-15 11:40:09|   5.0|              1.95|\n",
      "|     16677086|AN01809|2017-12-31|2024-06-15 18:52:00|2018-01-02|2024-06-15 07:19:00|   4.5|             36.45|\n",
      "|      3176550|AN24009|2017-12-31|2024-06-15 16:59:16|2018-01-02|2024-06-15 15:53:16|   5.0|              46.9|\n",
      "|     16678674|AN15542|2017-12-31|2024-06-15 22:47:00|2018-01-01|2024-06-15 12:11:00|  26.1|              13.4|\n",
      "|     16667381|AN05258|2017-12-30|2024-06-15 20:44:00|2017-12-31|2024-06-15 12:31:00|  18.5|15.783333333333333|\n",
      "|     16656684|AN03155|2017-12-30|2024-06-15 00:08:00|2017-12-30|2024-06-15 11:08:00|  23.7|              11.0|\n",
      "|     16665909|AN15633|2017-12-30|2024-06-15 22:08:00|2017-12-31|2024-06-15 07:34:00|   8.6| 9.433333333333334|\n",
      "|     16656833|AN16585|2017-12-30|2024-06-15 11:06:00|2017-12-30|2024-06-15 11:21:00|   1.6|              0.25|\n",
      "|      3170740|AN18094|2017-12-30|2024-06-15 11:49:11|2017-12-31|2024-06-15 12:26:11|  15.0|24.616666666666667|\n",
      "|     16659519|AN08473|2017-12-30|2024-06-15 14:24:00|2017-12-30|2024-06-15 16:12:00|   1.8|               1.8|\n",
      "|     16664521|AN16361|2017-12-30|2024-06-15 19:35:00|2017-12-31|2024-06-15 14:32:00|   3.5|             18.95|\n",
      "|     16662170|AN11067|2017-12-30|2024-06-15 17:07:00|2017-12-31|2024-06-15 08:15:00|   6.5|15.133333333333333|\n",
      "|     16661855|AN12077|2017-12-30|2024-06-15 16:50:00|2017-12-30|2024-06-15 18:56:00|   6.5|               2.1|\n",
      "|     16666777|AN08012|2017-12-30|2024-06-15 11:00:00|2017-12-31|2024-06-15 08:34:00|   3.1|21.566666666666666|\n",
      "+-------------+-------+----------+-------------------+----------+-------------------+------+------------------+\n",
      "only showing top 20 rows\n",
      "\n"
     ]
    }
   ],
   "source": [
    "df.show()"
   ]
  },
  {
   "cell_type": "code",
   "execution_count": 4,
   "metadata": {},
   "outputs": [],
   "source": [
    "transformed_df = etl_job.transform(df)"
   ]
  },
  {
   "cell_type": "code",
   "execution_count": 5,
   "metadata": {},
   "outputs": [
    {
     "name": "stdout",
     "output_type": "stream",
     "text": [
      "+--------------+-------------------+-------------------+\n",
      "|chargepoint_id|avg_plugin_duration|max_plugin_duration|\n",
      "+--------------+-------------------+-------------------+\n",
      "|       AN03946|               7.88|              13.35|\n",
      "|       AN00218|               1.56|               3.46|\n",
      "|       AN08663|              15.95|              41.71|\n",
      "|       AN05089|               9.78|              12.85|\n",
      "|       AN08083|               1.46|               2.73|\n",
      "|       AN00603|              28.72|              62.92|\n",
      "|       AN04630|              22.94|              34.32|\n",
      "|       AN16172|              11.24|              14.93|\n",
      "|       AN06965|               8.99|               25.4|\n",
      "|       AN08377|              17.82|              23.95|\n",
      "|       AN10884|               16.9|               24.1|\n",
      "|       AN11526|              11.58|              17.87|\n",
      "|       AN09764|               5.92|              14.58|\n",
      "|       AN06739|                4.9|              11.79|\n",
      "|       AN12429|               13.1|              22.57|\n",
      "|       AN03896|               5.41|              13.09|\n",
      "|       AN17688|               6.71|              14.99|\n",
      "|       AN09713|               4.07|              10.22|\n",
      "|       AN15995|               3.56|               3.78|\n",
      "|       AN11463|               7.35|               12.6|\n",
      "+--------------+-------------------+-------------------+\n",
      "only showing top 20 rows\n",
      "\n"
     ]
    }
   ],
   "source": [
    "transformed_df.show()"
   ]
  },
  {
   "cell_type": "code",
   "execution_count": 6,
   "metadata": {},
   "outputs": [
    {
     "data": {
      "text/plain": [
       "'C:\\\\Projects\\\\Finances\\\\data-mnp\\\\asses\\\\asa.csv'"
      ]
     },
     "execution_count": 6,
     "metadata": {},
     "output_type": "execute_result"
    }
   ],
   "source": [
    "etl_job.output_path"
   ]
  },
  {
   "cell_type": "code",
   "execution_count": 7,
   "metadata": {},
   "outputs": [],
   "source": [
    "import sys\n",
    "import os\n",
    "os.environ['PYSPARK_DRIVER_PYTHON_OPTS']= \"notebook\"\n",
    "os.environ['PYSPARK_DRIVER_PYTHON'] = sys.executable\n",
    "os.environ['PYSPARK_PYTHON'] = sys.executable"
   ]
  },
  {
   "cell_type": "code",
   "execution_count": 9,
   "metadata": {},
   "outputs": [],
   "source": [
    "#transformed_df.write.mode(\"overwrite\").csv(etl_job.output_path )\n",
    "transformed_df.coalesce(1).write.option(\"header\",\"true\").format(\"csv\").save(etl_job.output_path)\n"
   ]
  },
  {
   "cell_type": "code",
   "execution_count": 4,
   "metadata": {},
   "outputs": [],
   "source": [
    "etl_job.spark_session.stop()\n"
   ]
  },
  {
   "cell_type": "code",
   "execution_count": null,
   "metadata": {},
   "outputs": [],
   "source": []
  }
 ],
 "metadata": {
  "kernelspec": {
   "display_name": "portfolio",
   "language": "python",
   "name": "python3"
  },
  "language_info": {
   "codemirror_mode": {
    "name": "ipython",
    "version": 3
   },
   "file_extension": ".py",
   "mimetype": "text/x-python",
   "name": "python",
   "nbconvert_exporter": "python",
   "pygments_lexer": "ipython3",
   "version": "3.12.3"
  }
 },
 "nbformat": 4,
 "nbformat_minor": 2
}
