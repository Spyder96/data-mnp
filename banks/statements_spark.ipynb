{
 "cells": [
  {
   "cell_type": "code",
   "execution_count": 17,
   "metadata": {},
   "outputs": [],
   "source": [
    "# Import\n",
    "from pyspark.sql import SparkSession\n",
    "import os\n",
    "\n",
    "# Create SparkSession\n",
    "spark = SparkSession.builder.appName(\"Bankstatementsprocessing\").getOrCreate()\n"
   ]
  },
  {
   "cell_type": "code",
   "execution_count": 18,
   "metadata": {},
   "outputs": [],
   "source": [
    "# Folder path containing CSV files\n",
    "folder_path = \"C:/Projects/Finances/Bank statements/hdfc\"\n",
    "\n",
    "# List CSV files in the folder\n",
    "csv_files = [os.path.join(folder_path, file) for file in os.listdir(folder_path) if file.endswith('.csv')]\n",
    "\n",
    "# Read CSV files into Spark DataFrame\n",
    "df = spark.read.csv(csv_files , header=True , inferSchema=True )"
   ]
  },
  {
   "cell_type": "code",
   "execution_count": 19,
   "metadata": {},
   "outputs": [
    {
     "data": {
      "text/plain": [
       "1757"
      ]
     },
     "execution_count": 19,
     "metadata": {},
     "output_type": "execute_result"
    }
   ],
   "source": [
    "df.count()"
   ]
  },
  {
   "cell_type": "code",
   "execution_count": 20,
   "metadata": {},
   "outputs": [
    {
     "name": "stdout",
     "output_type": "stream",
     "text": [
      "root\n",
      " |-- Date: string (nullable = true)\n",
      " |-- Description: string (nullable = true)\n",
      " |-- Value_date: string (nullable = true)\n",
      " |-- Debit: double (nullable = true)\n",
      " |-- Credit: double (nullable = true)\n",
      " |-- Ref_No: string (nullable = true)\n",
      " |-- Balance: double (nullable = true)\n",
      "\n"
     ]
    }
   ],
   "source": [
    "df.printSchema()"
   ]
  },
  {
   "cell_type": "markdown",
   "metadata": {},
   "source": [
    "Checking metadata and viewing the rows where issue is coming"
   ]
  },
  {
   "cell_type": "code",
   "execution_count": 12,
   "metadata": {},
   "outputs": [
    {
     "name": "stdout",
     "output_type": "stream",
     "text": [
      "Column Metadata: StructField('Debit', StringType(), True)\n"
     ]
    }
   ],
   "source": [
    "# Get the schema as a StructType object\n",
    "schema = df.schema\n",
    "\n",
    "# Get the metadata for a specific column (replace \"column_name\" with the actual column name)\n",
    "column_metadata = schema[\"Debit\"]\n",
    "\n",
    "# Print the metadata to see how the data type was inferred\n",
    "print(\"Column Metadata:\", column_metadata)"
   ]
  },
  {
   "cell_type": "code",
   "execution_count": 21,
   "metadata": {},
   "outputs": [
    {
     "name": "stdout",
     "output_type": "stream",
     "text": [
      "root\n",
      " |-- Date: string (nullable = true)\n",
      " |-- Description: string (nullable = true)\n",
      " |-- Value_date: string (nullable = true)\n",
      " |-- Debit: double (nullable = true)\n",
      " |-- Credit: double (nullable = true)\n",
      " |-- Ref_No: string (nullable = true)\n",
      " |-- Balance: double (nullable = true)\n",
      "\n",
      "Number of NA values in 'Debit': 0\n"
     ]
    }
   ],
   "source": [
    "from pyspark.sql.functions import col\n",
    "\n",
    "# Convert column to numeric (assuming the column name is \"Debit\")\n",
    "df = df.withColumn(\"Debit\", df[\"Debit\"].cast(\"double\"))\n",
    "\n",
    "# Find NA values in the column\n",
    "na_count = df.filter(col(\"Debit\").isNull()).count()\n",
    "\n",
    "# Show DataFrame schema to confirm the data type conversion\n",
    "df.printSchema()\n",
    "\n",
    "# Print the count of NA values\n",
    "print(\"Number of NA values in 'Debit':\", na_count)\n"
   ]
  },
  {
   "cell_type": "code",
   "execution_count": 22,
   "metadata": {},
   "outputs": [
    {
     "name": "stdout",
     "output_type": "stream",
     "text": [
      "+----+-----------+----------+-----+------+------+-------+\n",
      "|Date|Description|Value_date|Debit|Credit|Ref_No|Balance|\n",
      "+----+-----------+----------+-----+------+------+-------+\n",
      "+----+-----------+----------+-----+------+------+-------+\n",
      "\n"
     ]
    }
   ],
   "source": [
    "df.filter(col(\"Debit\").isNull()).show()"
   ]
  },
  {
   "cell_type": "code",
   "execution_count": null,
   "metadata": {},
   "outputs": [],
   "source": []
  }
 ],
 "metadata": {
  "kernelspec": {
   "display_name": "portfolio",
   "language": "python",
   "name": "python3"
  },
  "language_info": {
   "codemirror_mode": {
    "name": "ipython",
    "version": 3
   },
   "file_extension": ".py",
   "mimetype": "text/x-python",
   "name": "python",
   "nbconvert_exporter": "python",
   "pygments_lexer": "ipython3",
   "version": "3.12.3"
  }
 },
 "nbformat": 4,
 "nbformat_minor": 2
}
